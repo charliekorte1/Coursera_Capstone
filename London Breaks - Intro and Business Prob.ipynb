{
 "cells": [
  {
   "cell_type": "markdown",
   "metadata": {
    "collapsed": true
   },
   "source": [
    "# The Battle of the Neighborhoods - London Breaks"
   ]
  },
  {
   "cell_type": "markdown",
   "metadata": {},
   "source": [
    "### Background"
   ]
  },
  {
   "cell_type": "markdown",
   "metadata": {},
   "source": [
    "As indicated by Bloomberg News, the London Housing Market is stuck. It is currently confronting various headwinds, including the possibility of higher charges and an admonition from the Bank of England that U.K. home estimations could fall as much as 30 percent in case of a muddled exit from the European Union. All the more explicitly, four disregarded breaks recommend that the London market might be fit as a fiddle than many acknowledge: shrouded value falls, record-low deals, homebuilder departure and assessment climbs tending to abroad purchasers of homes in England and Wales"
   ]
  },
  {
   "cell_type": "markdown",
   "metadata": {},
   "source": [
    "### Business Problem"
   ]
  },
  {
   "cell_type": "markdown",
   "metadata": {},
   "source": [
    "In this situation, it is dire to receive AI instruments so as to help home buyer's customer base in London to settle on astute and successful choices. Accordingly, the business issue we are at present presenting is: how might we offer help to home buyers customer base in to buy a reasonable land in London in this unsure monetary and money related situation?\n",
    "\n",
    "To take care of this business issue, we are going to bunch London neighborhoods so as to prescribe settings and the present normal cost of land where home buyers can make a land venture. We will prescribe gainful settings as per comforts and basic offices encompassing such scenes for example grade schools, secondary schools, emergency clinics and supermarkets.'"
   ]
  },
  {
   "cell_type": "markdown",
   "metadata": {},
   "source": [
    "### Data"
   ]
  },
  {
   "cell_type": "markdown",
   "metadata": {},
   "source": [
    "Information on London properties and the relative value paid information were separated from the HM Land Registry (http://landregistry.data.gov.uk/). The accompanying fields contain the location information remembered for Price Paid Data: Postcode; PAON Primary Addressable Object Name. Regularly the house number or name; SAON Secondary Addressable Object Name. In the event that there is a sub-working, for instance, the structure is separated into pads, there will be a SAON; Street; Locality; Town/City; District; County.\n",
    "\n",
    "To investigate and target prescribed areas crosswise over various settings as indicated by the nearness of conveniences and fundamental offices, we will get to information through FourSquare API interface and mastermind them as a dataframe for perception. By blending information on London properties and the relative value paid information from the HM Land Registry and information on comforts and fundamental offices encompassing such properties from FourSquare API interface, we will have the option to prescribe productive land ventures."
   ]
  },
  {
   "cell_type": "markdown",
   "metadata": {},
   "source": [
    "### Methodology"
   ]
  },
  {
   "cell_type": "markdown",
   "metadata": {},
   "source": [
    "The Methodology area will portray the fundamental parts of our investigation and predication framework. The Methodology segment includes four phases:\n",
    "\n",
    "1. Collecting Inspection Data\n",
    "2. Exploring and Understanding Data\n",
    "3. Data preparation and preprocessing\n",
    "4. Modeling"
   ]
  }
 ],
 "metadata": {
  "kernelspec": {
   "display_name": "Python 3.6",
   "language": "python",
   "name": "python3"
  },
  "language_info": {
   "codemirror_mode": {
    "name": "ipython",
    "version": 3
   },
   "file_extension": ".py",
   "mimetype": "text/x-python",
   "name": "python",
   "nbconvert_exporter": "python",
   "pygments_lexer": "ipython3",
   "version": "3.6.8"
  }
 },
 "nbformat": 4,
 "nbformat_minor": 1
}
